{
 "cells": [
  {
   "cell_type": "code",
   "execution_count": 12,
   "metadata": {},
   "outputs": [
    {
     "name": "stdout",
     "output_type": "stream",
     "text": [
      "Please input the x coordinate of your point.2\n",
      "Please input the y coordinate of your point.1\n",
      "2.23606797749979\n",
      "0.0\n",
      "7.0710678118654755\n",
      "The point (2, 1) is in circle C1.\n",
      "The point (2, 1) is in circle C2.\n",
      "The point (2, 1) is NOT in circle C3.\n"
     ]
    }
   ],
   "source": [
    "import math \n",
    "\n",
    "# First, take input from the user in the form of the x and y coordinates of the point to test. \n",
    "# Note that here, we are not implementing checks on the input, and trusting that the user will input numbers. \n",
    "# (A sometimes dangerous assumption!)\n",
    "\n",
    "x = input('Please input the x coordinate of your point.')\n",
    "y = input('Please input the y coordinate of your point.')\n",
    "\n",
    "Point = (int(x),int(y))\n",
    "\n",
    "# Next, we define the circles as given by the exercise with their centre and radius\n",
    "\n",
    "CentreC1 = (0,0)\n",
    "CentreC2 = (2,1)\n",
    "CentreC3 = (-5,0)\n",
    "\n",
    "RadiusC1 = 5\n",
    "RadiusC2 = 2\n",
    "RadiusC3 = 3\n",
    "\n",
    "# Here we calculate the Euclidean distance from the point given to each of the circle centres. \n",
    "\n",
    "DistanceToCentreC1 = math.sqrt((Point[0]-CentreC1[0])**2+(Point[1]-CentreC1[1])**2)\n",
    "DistanceToCentreC2 = math.sqrt((Point[0]-CentreC2[0])**2+(Point[1]-CentreC2[1])**2)\n",
    "DistanceToCentreC3 = math.sqrt((Point[0]-CentreC3[0])**2+(Point[1]-CentreC3[1])**2)\n",
    "\n",
    "print(DistanceToCentreC1)\n",
    "print(DistanceToCentreC2)\n",
    "print(DistanceToCentreC3)\n",
    "\n",
    "# Finally, we test if the distance of the point to the each circle's centre is smaller than that circle's radius.\n",
    "# If so, the circle contains the point and we print the appropriate message. \n",
    "\n",
    "if DistanceToCentreC1 <= RadiusC1:\n",
    "    print(\"The point \" + str(Point) + \" is in circle C1.\")\n",
    "else:\n",
    "     print(\"The point \" + str(Point) + \" is NOT in circle C1.\")\n",
    "        \n",
    "if DistanceToCentreC2 <= RadiusC2:\n",
    "    print(\"The point \" + str(Point) + \" is in circle C2.\")\n",
    "else:\n",
    "     print(\"The point \" + str(Point) + \" is NOT in circle C2.\")\n",
    "\n",
    "if DistanceToCentreC3 <= RadiusC3:\n",
    "    print(\"The point \" + str(Point) + \" is in circle C3.\")\n",
    "else:\n",
    "     print(\"The point \" + str(Point) + \" is NOT in circle C3.\")\n",
    "        \n",
    "        \n",
    "        "
   ]
  },
  {
   "cell_type": "code",
   "execution_count": null,
   "metadata": {},
   "outputs": [],
   "source": []
  }
 ],
 "metadata": {
  "kernelspec": {
   "display_name": "Python 3",
   "language": "python",
   "name": "python3"
  }
 },
 "nbformat": 4,
 "nbformat_minor": 2
}
