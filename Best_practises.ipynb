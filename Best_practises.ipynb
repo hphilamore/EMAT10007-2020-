{
  "cells": [
    {
      "cell_type": "markdown",
      "metadata": {
        "id": "view-in-github",
        "colab_type": "text"
      },
      "source": [
        "<a href=\"https://colab.research.google.com/github/hphilamore/EMAT10007-2020-/blob/master/Best_practises.ipynb\" target=\"_parent\"><img src=\"https://colab.research.google.com/assets/colab-badge.svg\" alt=\"Open In Colab\"/></a>"
      ]
    },
    {
      "cell_type": "markdown",
      "id": "cb06c212",
      "metadata": {
        "id": "cb06c212"
      },
      "source": [
        "# Best Practises - Readability and Tidiness\n",
        "\n",
        "Hiya!\n",
        "\n",
        "Alongside the Python syntax, we will be teaching you best practises for programming.\n",
        "\n",
        "These best practises are taken from a document called PEP 8 (or PEP8/PEP-8), written in 2001, that provides guidelines on how to write Python code.\n",
        "\n",
        "https://peps.python.org/pep-0008/\n",
        "\n",
        "The content of PEP 8 focuses on improving the readability and consistency of Python code and is widely adopted by users of Python."
      ]
    },
    {
      "cell_type": "markdown",
      "id": "cf94527a",
      "metadata": {
        "id": "cf94527a"
      },
      "source": [
        "While these practises and conventions are not needed to ensure your code runs, they will help you to write well-presented code.\n",
        "\n",
        "The readability and tidiness of your code is important for:\n",
        "- remembering what your code does when you refer back to it\n",
        "- communicating your code to others (e.g. working as a team, preparing an assignment)\n",
        "- demonstrating professionalism\n",
        "\n",
        "You will be marked on your use of these best practises in the assignment for this unit."
      ]
    },
    {
      "cell_type": "markdown",
      "id": "ada1cb13",
      "metadata": {
        "id": "ada1cb13"
      },
      "source": [
        "# Best Practises - Variable Naming\n",
        "\n",
        "A single naming convention should be used consistently for all variable names in a program.\n",
        "\n",
        "Several naming conventions exist:\n",
        "\n",
        "|     |     |\n",
        "| :-: | :-: |  \n",
        "| `camelCase` | Each word in the variabale name, except the first, starts with a capital letter |\n",
        "| `PascalCase` | Each word in the variable name starts with a capital letter |\n",
        "| `snake_case` | Each word in the variable name is lower case and is separated by an underscore character |\n",
        "\n",
        "\n",
        "\n",
        "The most widely used naming convention for writing code in Python is `snake_case`.\n",
        "\n",
        "We will use `snake_case`for the code examples thoughout these notes and build up our knowledge of naming conventions over the unit."
      ]
    },
    {
      "cell_type": "markdown",
      "id": "79a4bd01",
      "metadata": {
        "id": "79a4bd01"
      },
      "source": [
        "# Best Practises - Comments\n",
        "\n",
        "As shown in this program, you should use comments to document your code.\n",
        "\n",
        "When you or someone else reads a comment, they should be able to easily understand the code the comment applies to and how it functions within the rest of the program.\n",
        "\n",
        "Points for adding comments to code:\n",
        "- Use complete sentences, starting with a capital letter.\n",
        "- Limit the total line length to 79 characters (vertical line in Spyder editor window).\n",
        "- Don’t use comments to state the obvious <br> e.g. `x = y ** 2 # Assign x the value y squared`"
      ]
    },
    {
      "cell_type": "markdown",
      "id": "051857bb",
      "metadata": {
        "id": "051857bb"
      },
      "source": [
        "# Best Practise for Code Layout - Blank lines and space\n",
        "\n",
        "Using blank space between lines can improve the readability of your code.\n",
        "\n",
        "Code that’s tightly packed together can be hard to read.\n",
        "\n",
        "However too many blank lines make code sparse and slower to scroll through.\n",
        "\n",
        "As a general rule, use blank lines to break your program into __clear steps__.  <br>e.g. successive blocks of code beginning `if`, `elif` and `else`"
      ]
    },
    {
      "cell_type": "code",
      "execution_count": null,
      "id": "d0fc50f3",
      "metadata": {
        "id": "d0fc50f3"
      },
      "outputs": [],
      "source": []
    }
  ],
  "metadata": {
    "kernelspec": {
      "display_name": "Python 3 (ipykernel)",
      "language": "python",
      "name": "python3"
    },
    "language_info": {
      "codemirror_mode": {
        "name": "ipython",
        "version": 3
      },
      "file_extension": ".py",
      "mimetype": "text/x-python",
      "name": "python",
      "nbconvert_exporter": "python",
      "pygments_lexer": "ipython3",
      "version": "3.10.9"
    },
    "colab": {
      "provenance": [],
      "include_colab_link": true
    }
  },
  "nbformat": 4,
  "nbformat_minor": 5
}