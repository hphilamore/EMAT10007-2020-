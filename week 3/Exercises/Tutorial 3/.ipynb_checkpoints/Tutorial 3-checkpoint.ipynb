{
 "cells": [
  {
   "cell_type": "markdown",
   "metadata": {},
   "source": [
    "# Week 3 Loops and Data Structure\n",
    "## Part 1 For loops\n",
    "## Exercise 1\n",
    "### 1"
   ]
  },
  {
   "cell_type": "code",
   "execution_count": 1,
   "metadata": {},
   "outputs": [
    {
     "name": "stdout",
     "output_type": "stream",
     "text": [
      "H\n",
      "e\n",
      "l\n",
      "l\n",
      "o\n",
      " \n",
      "W\n",
      "o\n",
      "r\n",
      "l\n",
      "d\n"
     ]
    }
   ],
   "source": [
    "Words = \"Hello World\"\n",
    "for Letter in Words:\n",
    "    print(Letter)\n"
   ]
  },
  {
   "cell_type": "markdown",
   "metadata": {},
   "source": [
    "### 2"
   ]
  },
  {
   "cell_type": "markdown",
   "metadata": {},
   "source": [
    "The program prints the sum of the even integers up to 10\n",
    "### 3\n",
    "If only one argument is in range(N), then the requested range will start from 0 up to N-1"
   ]
  },
  {
   "cell_type": "code",
   "execution_count": 2,
   "metadata": {},
   "outputs": [],
   "source": [
    "for i in range(11):\n",
    "    print(i)"
   ]
  },
  {
   "cell_type": "markdown",
   "metadata": {},
   "source": [
    "### 4\n",
    "The first argument is the start of the sequence the second is the stop and the last one is the step. You could also re-write the Sum of integers program using a step of 10 starting from 0 instead of using a modulo"
   ]
  },
  {
   "cell_type": "code",
   "execution_count": 3,
   "metadata": {},
   "outputs": [
    {
     "name": "stdout",
     "output_type": "stream",
     "text": [
      "1\n",
      "3\n",
      "5\n",
      "7\n",
      "9\n"
     ]
    }
   ],
   "source": [
    "for i in range(1,11,2):\n",
    "    print(i)"
   ]
  },
  {
   "cell_type": "markdown",
   "metadata": {},
   "source": [
    "### 5, 6"
   ]
  },
  {
   "cell_type": "code",
   "execution_count": 29,
   "metadata": {},
   "outputs": [
    {
     "name": "stdout",
     "output_type": "stream",
     "text": [
      "Char H at position 0\n",
      "Char e at position 1\n",
      "Char l at position 2\n",
      "Char l at position 3\n",
      "Char o at position 4\n",
      "Char   at position 5\n",
      "Char W at position 6\n",
      "Char o at position 7\n",
      "Char r at position 8\n",
      "Char l at position 9\n",
      "Char d at position 10\n"
     ]
    }
   ],
   "source": [
    "Words = \"Hello World\"\n",
    "for i in range(0,len(Words)):\n",
    "    print(\"Char \"+Words[i]+\" at position\",i)"
   ]
  },
  {
   "cell_type": "code",
   "execution_count": 5,
   "metadata": {},
   "outputs": [
    {
     "name": "stdout",
     "output_type": "stream",
     "text": [
      "Char H at position 0\n",
      "Char e at position 1\n",
      "Char l at position 2\n",
      "Char l at position 3\n",
      "Char o at position 4\n",
      "Char   at position 5\n",
      "Char W at position 6\n",
      "Char o at position 7\n",
      "Char r at position 8\n",
      "Char l at position 9\n",
      "Char d at position 10\n"
     ]
    }
   ],
   "source": [
    "for pos,letter in enumerate(Words):\n",
    "    print(\"Char \"+letter+\" at position\",pos)"
   ]
  },
  {
   "cell_type": "markdown",
   "metadata": {},
   "source": [
    "## Exercise 2 While loops\n",
    "### 1,2,4\n",
    "you need to increment i otherwise you will still compare the first character of the string"
   ]
  },
  {
   "cell_type": "code",
   "execution_count": 6,
   "metadata": {},
   "outputs": [
    {
     "name": "stdout",
     "output_type": "stream",
     "text": [
      "Target letter is at position 10\n"
     ]
    }
   ],
   "source": [
    "Words = \"Hello World\"\n",
    "TargetLetter = 'd'\n",
    "i = 0\n",
    "while Words[i] != TargetLetter and i+1 < len(Words):\n",
    "    i += 1\n",
    "print(\"Target letter is at position\", i)"
   ]
  },
  {
   "cell_type": "code",
   "execution_count": 31,
   "metadata": {},
   "outputs": [
    {
     "name": "stdout",
     "output_type": "stream",
     "text": [
      "Found o at postition 4\n",
      "Found o at postition 7\n"
     ]
    },
    {
     "data": {
      "text/plain": [
       "7"
      ]
     },
     "execution_count": 31,
     "metadata": {},
     "output_type": "execute_result"
    }
   ],
   "source": [
    "Words = \"Hello World\"\n",
    "TargetLetter = 'o'\n",
    "for i in range(len(Words)):\n",
    "    if Words[i] == TargetLetter:\n",
    "        print(\"Found \"+ TargetLetter + \" at postition\", i)\n",
    "\n",
    "Words.find(\"o\")\n",
    "Words.rfind(\"o\")"
   ]
  },
  {
   "cell_type": "markdown",
   "metadata": {},
   "source": [
    "### 4,5\n",
    "Won't do the camel case"
   ]
  },
  {
   "cell_type": "code",
   "execution_count": 5,
   "metadata": {},
   "outputs": [
    {
     "name": "stdout",
     "output_type": "stream",
     "text": [
      "1\n",
      "5\n",
      "14\n",
      "30\n",
      "55\n",
      "91\n",
      "140\n",
      "204\n",
      "285\n",
      "385\n",
      "506\n",
      "650\n",
      "819\n",
      "1015\n",
      "1240\n",
      "1496\n",
      "1785\n",
      "2109\n",
      "2470\n",
      "2870\n",
      "3311\n",
      "3795\n",
      "4324\n",
      "4900\n",
      "5525\n",
      "6201\n",
      "6930\n",
      "7714\n",
      "8555\n",
      "9455\n",
      "10416\n",
      "11440\n",
      "12529\n",
      "13685\n",
      "14910\n",
      "16206\n",
      "17575\n",
      "19019\n",
      "20540\n",
      "22140\n",
      "23821\n",
      "25585\n",
      "27434\n",
      "29370\n",
      "31395\n",
      "33511\n",
      "35720\n",
      "38024\n",
      "40425\n",
      "42925\n",
      "45526\n",
      "48230\n",
      "51039\n",
      "53955\n",
      "56980\n",
      "60116\n",
      "63365\n",
      "66729\n",
      "70210\n",
      "73810\n",
      "77531\n",
      "81375\n",
      "85344\n",
      "89440\n",
      "93665\n",
      "98021\n",
      "102510\n",
      "107134\n",
      "111895\n",
      "116795\n",
      "121836\n",
      "127020\n",
      "132349\n",
      "137825\n",
      "143450\n",
      "149226\n",
      "155155\n",
      "161239\n",
      "167480\n",
      "173880\n",
      "180441\n",
      "187165\n",
      "194054\n",
      "201110\n",
      "208335\n",
      "215731\n",
      "223300\n",
      "231044\n",
      "238965\n",
      "247065\n",
      "255346\n",
      "263810\n",
      "272459\n",
      "281295\n",
      "290320\n",
      "299536\n",
      "308945\n",
      "318549\n",
      "328350\n",
      "338350\n",
      "348551\n",
      "358955\n",
      "369564\n",
      "380380\n",
      "391405\n",
      "402641\n",
      "414090\n",
      "425754\n",
      "437635\n",
      "449735\n",
      "462056\n",
      "474600\n",
      "487369\n",
      "500365\n",
      "513590\n",
      "527046\n",
      "540735\n",
      "554659\n",
      "568820\n",
      "583220\n",
      "597861\n",
      "612745\n",
      "627874\n",
      "643250\n",
      "658875\n",
      "674751\n",
      "690880\n",
      "707264\n",
      "723905\n",
      "740805\n",
      "757966\n",
      "775390\n",
      "793079\n",
      "811035\n",
      "829260\n",
      "847756\n",
      "866525\n",
      "885569\n",
      "904890\n",
      "924490\n",
      "944371\n",
      "964535\n",
      "984984\n",
      "1005720\n",
      "The answer is 144\n"
     ]
    }
   ],
   "source": [
    "cumulativeSum=0\n",
    "counter=0\n",
    "\n",
    "while cumulativeSum<1000000:\n",
    "    counter+=+1\n",
    "    cumulativeSum=cumulativeSum+(counter**2)\n",
    "    print(cumulativeSum)\n",
    "print(\"The answer is\", str(counter))"
   ]
  },
  {
   "cell_type": "code",
   "execution_count": 9,
   "metadata": {},
   "outputs": [
    {
     "name": "stdout",
     "output_type": "stream",
     "text": [
      "1 1\n",
      "2 5\n",
      "3 14\n",
      "4 30\n",
      "5 55\n",
      "6 91\n",
      "7 140\n",
      "8 204\n",
      "9 285\n",
      "10 385\n",
      "11 506\n",
      "12 650\n",
      "13 819\n",
      "14 1015\n",
      "15 1240\n",
      "16 1496\n",
      "17 1785\n",
      "18 2109\n",
      "19 2470\n",
      "20 2870\n",
      "21 3311\n",
      "22 3795\n",
      "23 4324\n",
      "24 4900\n",
      "25 5525\n",
      "26 6201\n",
      "27 6930\n",
      "28 7714\n",
      "29 8555\n",
      "30 9455\n",
      "31 10416\n",
      "32 11440\n",
      "33 12529\n",
      "34 13685\n",
      "35 14910\n",
      "36 16206\n",
      "37 17575\n",
      "38 19019\n",
      "39 20540\n",
      "40 22140\n",
      "41 23821\n",
      "42 25585\n",
      "43 27434\n",
      "44 29370\n",
      "45 31395\n",
      "46 33511\n",
      "47 35720\n",
      "48 38024\n",
      "49 40425\n",
      "50 42925\n",
      "51 45526\n",
      "52 48230\n",
      "53 51039\n",
      "54 53955\n",
      "55 56980\n",
      "56 60116\n",
      "57 63365\n",
      "58 66729\n",
      "59 70210\n",
      "60 73810\n",
      "61 77531\n",
      "62 81375\n",
      "63 85344\n",
      "64 89440\n",
      "65 93665\n",
      "66 98021\n",
      "67 102510\n",
      "68 107134\n",
      "69 111895\n",
      "70 116795\n",
      "71 121836\n",
      "72 127020\n",
      "73 132349\n",
      "74 137825\n",
      "75 143450\n",
      "76 149226\n",
      "77 155155\n",
      "78 161239\n",
      "79 167480\n",
      "80 173880\n",
      "81 180441\n",
      "82 187165\n",
      "83 194054\n",
      "84 201110\n",
      "85 208335\n",
      "86 215731\n",
      "87 223300\n",
      "88 231044\n",
      "89 238965\n",
      "90 247065\n",
      "91 255346\n",
      "92 263810\n",
      "93 272459\n",
      "94 281295\n",
      "95 290320\n",
      "96 299536\n",
      "97 308945\n",
      "98 318549\n",
      "99 328350\n",
      "100 338350\n",
      "101 348551\n",
      "102 358955\n",
      "103 369564\n",
      "104 380380\n",
      "105 391405\n",
      "106 402641\n",
      "107 414090\n",
      "108 425754\n",
      "109 437635\n",
      "110 449735\n",
      "111 462056\n",
      "112 474600\n",
      "113 487369\n",
      "114 500365\n",
      "115 513590\n",
      "116 527046\n",
      "117 540735\n",
      "118 554659\n",
      "119 568820\n",
      "120 583220\n",
      "121 597861\n",
      "122 612745\n",
      "123 627874\n",
      "124 643250\n",
      "125 658875\n",
      "126 674751\n",
      "127 690880\n",
      "128 707264\n",
      "129 723905\n",
      "130 740805\n",
      "131 757966\n",
      "132 775390\n",
      "133 793079\n",
      "134 811035\n",
      "135 829260\n",
      "136 847756\n",
      "137 866525\n",
      "138 885569\n",
      "139 904890\n",
      "140 924490\n",
      "141 944371\n",
      "142 964535\n",
      "143 984984\n",
      "144 1005720\n",
      "The answer is 144\n"
     ]
    }
   ],
   "source": [
    "cumulativeSum=0\n",
    "counter=0\n",
    "\n",
    "while cumulativeSum<1000000:\n",
    "    counter+=+1\n",
    "    cumulativeSum=cumulativeSum+(counter**2)\n",
    "    print(counter, cumulativeSum)\n",
    "print(\"The answer is\", str(counter))"
   ]
  },
  {
   "cell_type": "markdown",
   "metadata": {},
   "source": [
    "6"
   ]
  },
  {
   "cell_type": "code",
   "execution_count": 7,
   "metadata": {},
   "outputs": [
    {
     "name": "stdout",
     "output_type": "stream",
     "text": [
      "Target letter is at position 4\n"
     ]
    }
   ],
   "source": [
    "Words = \"Hello World\"\n",
    "TargetLetter = 'o'\n",
    "i = 0\n",
    "for i in range(len(Words)):\n",
    "   if(Words[i] == TargetLetter):\n",
    "       break\n",
    "print(\"Target letter is at position\", i)"
   ]
  },
  {
   "cell_type": "markdown",
   "metadata": {},
   "source": [
    "## Exercise 3 More loops\n",
    "### 1"
   ]
  },
  {
   "cell_type": "code",
   "execution_count": 33,
   "metadata": {},
   "outputs": [],
   "source": [
    "import math  as mt\n",
    "import random"
   ]
  },
  {
   "cell_type": "code",
   "execution_count": 47,
   "metadata": {},
   "outputs": [
    {
     "name": "stdout",
     "output_type": "stream",
     "text": [
      "Throwing the dices again 4 2\n",
      "Finally A is equal to B 6 6 tries 1\n"
     ]
    }
   ],
   "source": [
    "A = random.randint(1,6)\n",
    "B = random.randint(1,6) # if you use the function random.randrange() you should go to N+1\n",
    "# that function works similarly to range(), if you use randin() you can specify the range inclusive of the upper\n",
    "# limit\n",
    "counter = 0\n",
    "while  A != B:\n",
    "    print(\"Throwing the dices again\", A, B)\n",
    "    A = random.randint(1,6)\n",
    "    B = random.randint(1,6)\n",
    "    counter += 1\n",
    "print(\"Finally A is equal to B\", A, B,\"tries\", counter)"
   ]
  },
  {
   "cell_type": "markdown",
   "metadata": {},
   "source": [
    "### 2\n",
    "Refer to provided code\n",
    "## Part 2 Data structures\n",
    "## Exercise 4 List\n",
    "### 1,2,3,4,5"
   ]
  },
  {
   "cell_type": "code",
   "execution_count": 49,
   "metadata": {},
   "outputs": [
    {
     "name": "stdout",
     "output_type": "stream",
     "text": [
      "[5, 2]\n",
      "[2, 5]\n",
      "[[2, 5], [3, 4]]\n",
      "2\n",
      "5\n",
      "3\n",
      "4\n"
     ]
    }
   ],
   "source": [
    "a = [1,2]\n",
    "b = [3,4]\n",
    "a[0] = 5\n",
    "print(a)\n",
    "a.sort()\n",
    "print(a)\n",
    "# nested list\n",
    "c = [a,b]\n",
    "print(c)\n",
    "for sublist in c:\n",
    "    for element in sublist:\n",
    "        print(element)"
   ]
  },
  {
   "cell_type": "markdown",
   "metadata": {},
   "source": [
    "### 6\n",
    "refer to the list_words.py code\n",
    "### 7"
   ]
  },
  {
   "cell_type": "code",
   "execution_count": 8,
   "metadata": {},
   "outputs": [
    {
     "name": "stdout",
     "output_type": "stream",
     "text": [
      "[1, 3, 5, 7, 9, 11, 13, 15, 17, 19, 21, 23, 25, 27, 29, 31, 33, 35, 37, 39, 41, 43, 45, 47, 49, 51, 53, 55, 57, 59, 61, 63, 65, 67, 69, 71, 73, 75, 77, 79, 81, 83, 85, 87, 89, 91, 93, 95, 97, 99]\n",
      "[0, 3, 6, 9, 12, 15, 18, 21, 24, 27, 30, 33, 36, 39, 42, 45, 48, 51, 54, 57, 60, 63, 66, 69, 72, 75, 78, 81, 84, 87, 90, 93, 96, 99]\n",
      "[2, 3, 5, 7, 11, 13, 17, 19, 23, 29, 31, 37, 41, 43, 47, 53, 59, 61, 67, 71, 73, 79, 83, 89, 97]\n"
     ]
    }
   ],
   "source": [
    "a =[x for x in range(101) if x%2 != 0]\n",
    "print(a)\n",
    "b =[x for x in range(101) if x%3 == 0]\n",
    "print(b)\n",
    "c = [x for x in range(101) if all(x % y != 0 for y in range(2, x)) and x > 1]\n",
    "print(c)"
   ]
  },
  {
   "cell_type": "markdown",
   "metadata": {},
   "source": [
    "## Exercise 5 Tuples\n",
    "### 2,3,4,5"
   ]
  },
  {
   "cell_type": "code",
   "execution_count": 3,
   "metadata": {},
   "outputs": [
    {
     "name": "stdout",
     "output_type": "stream",
     "text": [
      "('gruyere', 'vacherin')\n"
     ]
    },
    {
     "ename": "TypeError",
     "evalue": "'tuple' object does not support item assignment",
     "output_type": "error",
     "traceback": [
      "\u001b[1;31m---------------------------------------------------------------------------\u001b[0m",
      "\u001b[1;31mTypeError\u001b[0m                                 Traceback (most recent call last)",
      "\u001b[1;32m<ipython-input-3-e616b5661bb7>\u001b[0m in \u001b[0;36m<module>\u001b[1;34m\u001b[0m\n\u001b[0;32m      1\u001b[0m \u001b[0mFondueIngredients\u001b[0m \u001b[1;33m=\u001b[0m \u001b[1;33m(\u001b[0m\u001b[1;34m\"gruyere\"\u001b[0m\u001b[1;33m,\u001b[0m\u001b[1;34m\"vacherin\"\u001b[0m\u001b[1;33m)\u001b[0m\u001b[1;33m\u001b[0m\u001b[1;33m\u001b[0m\u001b[0m\n\u001b[0;32m      2\u001b[0m \u001b[0mprint\u001b[0m\u001b[1;33m(\u001b[0m\u001b[0mFondueIngredients\u001b[0m\u001b[1;33m)\u001b[0m\u001b[1;33m\u001b[0m\u001b[1;33m\u001b[0m\u001b[0m\n\u001b[1;32m----> 3\u001b[1;33m \u001b[0mFondueIngredients\u001b[0m\u001b[1;33m[\u001b[0m\u001b[1;36m0\u001b[0m\u001b[1;33m]\u001b[0m \u001b[1;33m=\u001b[0m \u001b[1;34m\"Cheddar\"\u001b[0m\u001b[1;33m\u001b[0m\u001b[1;33m\u001b[0m\u001b[0m\n\u001b[0m",
      "\u001b[1;31mTypeError\u001b[0m: 'tuple' object does not support item assignment"
     ]
    }
   ],
   "source": [
    "FondueIngredients = (\"gruyere\",\"vacherin\")\n",
    "print(FondueIngredients)\n",
    "FondueIngredients[0] = \"Cheddar\""
   ]
  },
  {
   "cell_type": "markdown",
   "metadata": {},
   "source": [
    "tuples are immutable, to change it convert it to a list and back"
   ]
  },
  {
   "cell_type": "code",
   "execution_count": 5,
   "metadata": {},
   "outputs": [
    {
     "name": "stdout",
     "output_type": "stream",
     "text": [
      "('Cheddar', 'vacherin')\n"
     ]
    },
    {
     "ename": "AttributeError",
     "evalue": "'tuple' object has no attribute 'remove'",
     "output_type": "error",
     "traceback": [
      "\u001b[1;31m---------------------------------------------------------------------------\u001b[0m",
      "\u001b[1;31mAttributeError\u001b[0m                            Traceback (most recent call last)",
      "\u001b[1;32m<ipython-input-5-df4c56efaa72>\u001b[0m in \u001b[0;36m<module>\u001b[1;34m\u001b[0m\n\u001b[0;32m      4\u001b[0m \u001b[0mprint\u001b[0m\u001b[1;33m(\u001b[0m\u001b[0mFondueIngredients\u001b[0m\u001b[1;33m)\u001b[0m\u001b[1;33m\u001b[0m\u001b[1;33m\u001b[0m\u001b[0m\n\u001b[0;32m      5\u001b[0m \u001b[1;31m# to remove the last element use the pop method\u001b[0m\u001b[1;33m\u001b[0m\u001b[1;33m\u001b[0m\u001b[1;33m\u001b[0m\u001b[0m\n\u001b[1;32m----> 6\u001b[1;33m \u001b[0mFondueIngredients\u001b[0m\u001b[1;33m.\u001b[0m\u001b[0mremove\u001b[0m\u001b[1;33m(\u001b[0m\u001b[1;34m\"Cheddar\"\u001b[0m\u001b[1;33m)\u001b[0m\u001b[1;33m\u001b[0m\u001b[1;33m\u001b[0m\u001b[0m\n\u001b[0m",
      "\u001b[1;31mAttributeError\u001b[0m: 'tuple' object has no attribute 'remove'"
     ]
    }
   ],
   "source": [
    "FondueIngredientsList = list(FondueIngredients)\n",
    "FondueIngredientsList[0] = \"Cheddar\"\n",
    "FondueIngredients = tuple(FondueIngredientsList)\n",
    "print(FondueIngredients)"
   ]
  },
  {
   "cell_type": "markdown",
   "metadata": {},
   "source": [
    "## Exercise 6 - Sets\n",
    "## 2,3,4,5,6\n",
    "Duplicates are removed <br />\n",
    "sets can't be accessed using indices <br />\n",
    "visit https://www.w3schools.com/python/python_sets.asp for more"
   ]
  },
  {
   "cell_type": "code",
   "execution_count": 11,
   "metadata": {},
   "outputs": [
    {
     "name": "stdout",
     "output_type": "stream",
     "text": [
      "{8, 1, 2, 5}\n",
      "{1, 2, 4, 9}\n"
     ]
    }
   ],
   "source": [
    "s1 = {1,2,5,5,8}\n",
    "s2 = {1,2,4,9,2}\n",
    "print(s1)\n",
    "print(s2)"
   ]
  },
  {
   "cell_type": "code",
   "execution_count": 12,
   "metadata": {},
   "outputs": [
    {
     "ename": "TypeError",
     "evalue": "'set' object is not subscriptable",
     "output_type": "error",
     "traceback": [
      "\u001b[1;31m---------------------------------------------------------------------------\u001b[0m",
      "\u001b[1;31mTypeError\u001b[0m                                 Traceback (most recent call last)",
      "\u001b[1;32m<ipython-input-12-7087e83d753a>\u001b[0m in \u001b[0;36m<module>\u001b[1;34m\u001b[0m\n\u001b[1;32m----> 1\u001b[1;33m \u001b[0ms1\u001b[0m\u001b[1;33m[\u001b[0m\u001b[1;36m2\u001b[0m\u001b[1;33m]\u001b[0m\u001b[1;33m\u001b[0m\u001b[1;33m\u001b[0m\u001b[0m\n\u001b[0m",
      "\u001b[1;31mTypeError\u001b[0m: 'set' object is not subscriptable"
     ]
    }
   ],
   "source": [
    "s1[2]"
   ]
  },
  {
   "cell_type": "code",
   "execution_count": 51,
   "metadata": {},
   "outputs": [
    {
     "name": "stdout",
     "output_type": "stream",
     "text": [
      "False\n"
     ]
    }
   ],
   "source": [
    "print(4 in s1 and 4 in s2)"
   ]
  },
  {
   "cell_type": "code",
   "execution_count": 14,
   "metadata": {},
   "outputs": [
    {
     "name": "stdout",
     "output_type": "stream",
     "text": [
      "{1, 2}\n",
      "{1, 2, 4, 5, 8, 9}\n",
      "{8, 5}\n",
      "{9, 4}\n",
      "{4, 5, 8, 9}\n"
     ]
    }
   ],
   "source": [
    "print(s2 & s1)\n",
    "print(s2 | s1)\n",
    "print(s1 - s2)\n",
    "print(s2 - s1) ## notice that that the - operator is not symmetric\n",
    "print(s2 ^ s1) ## the combinatrion of the 2 above"
   ]
  },
  {
   "cell_type": "code",
   "execution_count": 15,
   "metadata": {},
   "outputs": [
    {
     "name": "stdout",
     "output_type": "stream",
     "text": [
      "{8, 2, 5}\n",
      "{2, 5, 6, 8}\n"
     ]
    }
   ],
   "source": [
    "s1 = {1,2,5,5,8}\n",
    "s1.remove(1)\n",
    "print(s1)\n",
    "s1.add(6)\n",
    "print(s1)"
   ]
  },
  {
   "cell_type": "markdown",
   "metadata": {},
   "source": [
    "## Exercise 7 Dictionaries\n",
    "### 1,2,3,4,5"
   ]
  },
  {
   "cell_type": "code",
   "execution_count": 16,
   "metadata": {},
   "outputs": [],
   "source": [
    "mydict = {\"Jill\":21, \"Sally\":20, \"Bob\":20, \"Harry\":21}"
   ]
  },
  {
   "cell_type": "code",
   "execution_count": 19,
   "metadata": {},
   "outputs": [
    {
     "data": {
      "text/plain": [
       "dict_values([21, 20, 20, 21])"
      ]
     },
     "execution_count": 19,
     "metadata": {},
     "output_type": "execute_result"
    }
   ],
   "source": [
    "mydict.keys()\n",
    "mydict.values()"
   ]
  },
  {
   "cell_type": "code",
   "execution_count": null,
   "metadata": {},
   "outputs": [],
   "source": [
    "mydict[\"Rachel\"] = 19"
   ]
  },
  {
   "cell_type": "code",
   "execution_count": 54,
   "metadata": {},
   "outputs": [
    {
     "name": "stdout",
     "output_type": "stream",
     "text": [
      "20\n",
      "{'Jill': 21, 'Sally': 20, 'Harry': 21}\n"
     ]
    }
   ],
   "source": [
    "mydict = {\"Jill\":21, \"Sally\":20, \"Bob\":20, \"Harry\":21}\n",
    "print(mydict.pop(\"Bob\"))\n",
    "print(mydict)"
   ]
  },
  {
   "cell_type": "code",
   "execution_count": 56,
   "metadata": {},
   "outputs": [
    {
     "data": {
      "text/plain": [
       "{'Jill': 24, 'Sally': 20, 'Harry': 21}"
      ]
     },
     "execution_count": 56,
     "metadata": {},
     "output_type": "execute_result"
    }
   ],
   "source": [
    "mydict[\"Jill\"] = 24\n",
    "mydict"
   ]
  },
  {
   "cell_type": "code",
   "execution_count": 28,
   "metadata": {},
   "outputs": [
    {
     "name": "stdout",
     "output_type": "stream",
     "text": [
      "True\n"
     ]
    }
   ],
   "source": [
    "print(\"Harry\" in mydict)"
   ]
  },
  {
   "cell_type": "markdown",
   "metadata": {},
   "source": [
    "## Exercise 8 - FizzBuzz Game\n",
    "refer to code FizzBuzz.py"
   ]
  },
  {
   "cell_type": "code",
   "execution_count": null,
   "metadata": {},
   "outputs": [],
   "source": []
  }
 ],
 "metadata": {
  "kernelspec": {
   "display_name": "Python 3",
   "language": "python",
   "name": "python3"
  },
  "language_info": {
   "codemirror_mode": {
    "name": "ipython",
    "version": 3
   },
   "file_extension": ".py",
   "mimetype": "text/x-python",
   "name": "python",
   "nbconvert_exporter": "python",
   "pygments_lexer": "ipython3",
   "version": "3.8.3"
  }
 },
 "nbformat": 4,
 "nbformat_minor": 4
}
